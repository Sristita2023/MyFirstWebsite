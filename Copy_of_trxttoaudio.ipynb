{
  "nbformat": 4,
  "nbformat_minor": 0,
  "metadata": {
    "colab": {
      "provenance": [],
      "authorship_tag": "ABX9TyMcLayoFCA6gC6Yp2ddW8NG",
      "include_colab_link": true
    },
    "kernelspec": {
      "name": "python3",
      "display_name": "Python 3"
    },
    "language_info": {
      "name": "python"
    }
  },
  "cells": [
    {
      "cell_type": "markdown",
      "metadata": {
        "id": "view-in-github",
        "colab_type": "text"
      },
      "source": [
        "<a href=\"https://colab.research.google.com/github/Sristita2023/MyFirstWebsite/blob/main/Copy_of_trxttoaudio.ipynb\" target=\"_parent\"><img src=\"https://colab.research.google.com/assets/colab-badge.svg\" alt=\"Open In Colab\"/></a>"
      ]
    },
    {
      "cell_type": "code",
      "execution_count": null,
      "metadata": {
        "colab": {
          "base_uri": "https://localhost:8080/"
        },
        "id": "mvV70Qb7Q_wb",
        "outputId": "52100869-448e-441e-d2ce-152ed2fc13bf"
      },
      "outputs": [
        {
          "output_type": "stream",
          "name": "stdout",
          "text": [
            "Collecting gTTS\n",
            "  Downloading gTTS-2.3.2-py3-none-any.whl (28 kB)\n",
            "Requirement already satisfied: requests<3,>=2.27 in /usr/local/lib/python3.10/dist-packages (from gTTS) (2.27.1)\n",
            "Requirement already satisfied: click<8.2,>=7.1 in /usr/local/lib/python3.10/dist-packages (from gTTS) (8.1.6)\n",
            "Requirement already satisfied: urllib3<1.27,>=1.21.1 in /usr/local/lib/python3.10/dist-packages (from requests<3,>=2.27->gTTS) (1.26.16)\n",
            "Requirement already satisfied: certifi>=2017.4.17 in /usr/local/lib/python3.10/dist-packages (from requests<3,>=2.27->gTTS) (2023.7.22)\n",
            "Requirement already satisfied: charset-normalizer~=2.0.0 in /usr/local/lib/python3.10/dist-packages (from requests<3,>=2.27->gTTS) (2.0.12)\n",
            "Requirement already satisfied: idna<4,>=2.5 in /usr/local/lib/python3.10/dist-packages (from requests<3,>=2.27->gTTS) (3.4)\n",
            "Installing collected packages: gTTS\n",
            "Successfully installed gTTS-2.3.2\n"
          ]
        }
      ],
      "source": [
        "!pip install gTTS"
      ]
    },
    {
      "cell_type": "code",
      "source": [
        "def text_to_Audio(text,language='en'):\n",
        "  HS = gTTS(text=text,lang=language)\n",
        "  HS.save(\"output_aud.mp3\")\n",
        "  text=\"amaro porano jaha chaytumi tai\"\n"
      ],
      "metadata": {
        "id": "yIZxaUWLUIyK"
      },
      "execution_count": null,
      "outputs": []
    },
    {
      "cell_type": "code",
      "source": [
        "text_to_Audio(\"amaro porano jaha chay tumi tai\")\n",
        "Audio(\"output_aud.mp3\")"
      ],
      "metadata": {
        "colab": {
          "base_uri": "https://localhost:8080/",
          "height": 76
        },
        "id": "ScCDJTBGYtXT",
        "outputId": "dc8624e9-8c63-4d91-d200-5854bbac00a9"
      },
      "execution_count": null,
      "outputs": [
        {
          "output_type": "execute_result",
          "data": {
            "text/plain": [
              "<IPython.lib.display.Audio object>"
            ],
            "text/html": [
              "\n",
              "                <audio  controls=\"controls\" >\n",
              "                    <source src=\"data:audio/mpeg;base64,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\" type=\"audio/mpeg\" />\n",
              "                    Your browser does not support the audio element.\n",
              "                </audio>\n",
              "              "
            ]
          },
          "metadata": {},
          "execution_count": 53
        }
      ]
    },
    {
      "cell_type": "code",
      "source": [
        "!pip install pydub\n"
      ],
      "metadata": {
        "colab": {
          "base_uri": "https://localhost:8080/"
        },
        "id": "buVvD5Href5_",
        "outputId": "e4c6905b-d82b-43fb-a2fd-3d64d37c3a02"
      },
      "execution_count": null,
      "outputs": [
        {
          "output_type": "stream",
          "name": "stdout",
          "text": [
            "Collecting pydub\n",
            "  Downloading pydub-0.25.1-py2.py3-none-any.whl (32 kB)\n",
            "Installing collected packages: pydub\n",
            "Successfully installed pydub-0.25.1\n"
          ]
        }
      ]
    },
    {
      "cell_type": "code",
      "source": [
        "!pip install Audiosegment"
      ],
      "metadata": {
        "colab": {
          "base_uri": "https://localhost:8080/"
        },
        "id": "rAHX9SzUe1u4",
        "outputId": "eb5c700c-8ffe-4c10-d051-60db3280eb92"
      },
      "execution_count": null,
      "outputs": [
        {
          "output_type": "stream",
          "name": "stdout",
          "text": [
            "Collecting Audiosegment\n",
            "  Downloading audiosegment-0.23.0-py3-none-any.whl (34 kB)\n",
            "Requirement already satisfied: pydub in /usr/local/lib/python3.10/dist-packages (from Audiosegment) (0.25.1)\n",
            "Collecting webrtcvad (from Audiosegment)\n",
            "  Downloading webrtcvad-2.0.10.tar.gz (66 kB)\n",
            "\u001b[2K     \u001b[90m━━━━━━━━━━━━━━━━━━━━━━━━━━━━━━━━━━━━━━━━\u001b[0m \u001b[32m66.2/66.2 kB\u001b[0m \u001b[31m4.1 MB/s\u001b[0m eta \u001b[36m0:00:00\u001b[0m\n",
            "\u001b[?25h  Preparing metadata (setup.py) ... \u001b[?25l\u001b[?25hdone\n",
            "Requirement already satisfied: numpy in /usr/local/lib/python3.10/dist-packages (from Audiosegment) (1.22.4)\n",
            "Building wheels for collected packages: webrtcvad\n",
            "  Building wheel for webrtcvad (setup.py) ... \u001b[?25l\u001b[?25hdone\n",
            "  Created wheel for webrtcvad: filename=webrtcvad-2.0.10-cp310-cp310-linux_x86_64.whl size=73465 sha256=ed49bb635ac33eb669fff8da2daefb933052e174dd1459924d1a2c50809ab82d\n",
            "  Stored in directory: /root/.cache/pip/wheels/2a/2b/84/ac7bacfe8c68a87c1ee3dd3c66818a54c71599abf308e8eb35\n",
            "Successfully built webrtcvad\n",
            "Installing collected packages: webrtcvad, Audiosegment\n",
            "Successfully installed Audiosegment-0.23.0 webrtcvad-2.0.10\n"
          ]
        }
      ]
    },
    {
      "cell_type": "code",
      "source": [
        "from IPython.lib.display import Audio\n",
        "from pydub import AudioSegment\n"
      ],
      "metadata": {
        "id": "kStFSbw7fD3-"
      },
      "execution_count": null,
      "outputs": []
    },
    {
      "cell_type": "code",
      "source": [
        "Sound1 :AudioSegment from file (\"location\"):\n",
        "sound2 : AudioSegment from file(\"location)\n",
        "combined=sound2.overlay(Sound1)\n",
        "combined.export(\"amaroporano jaha chay /combined.Wav\"format='Wav')\n",
        "Audio(\"path\")"
      ],
      "metadata": {
        "colab": {
          "base_uri": "https://localhost:8080/",
          "height": 130
        },
        "id": "SNtpYqfBlEcI",
        "outputId": "a79ece88-286f-4313-cca9-2ce79d12387a"
      },
      "execution_count": null,
      "outputs": [
        {
          "output_type": "error",
          "ename": "SyntaxError",
          "evalue": "ignored",
          "traceback": [
            "\u001b[0;36m  File \u001b[0;32m\"<ipython-input-62-03b53035ab2d>\"\u001b[0;36m, line \u001b[0;32m2\u001b[0m\n\u001b[0;31m    sound2 : AudioSegment from file(\"location):\u001b[0m\n\u001b[0m                                    ^\u001b[0m\n\u001b[0;31mSyntaxError\u001b[0m\u001b[0;31m:\u001b[0m unterminated string literal (detected at line 2)\n"
          ]
        }
      ]
    },
    {
      "cell_type": "code",
      "source": [],
      "metadata": {
        "id": "Kb42S3edep6G"
      },
      "execution_count": null,
      "outputs": []
    },
    {
      "cell_type": "code",
      "source": [],
      "metadata": {
        "id": "xpheCzbSX3ID"
      },
      "execution_count": null,
      "outputs": []
    }
  ]
}